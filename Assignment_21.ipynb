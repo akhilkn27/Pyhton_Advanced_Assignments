{
 "cells": [
  {
   "cell_type": "code",
   "execution_count": null,
   "id": "520aab3d-2810-4856-a906-f8df38b88699",
   "metadata": {},
   "outputs": [],
   "source": [
    "# Q1. What is a probability distribution, exactly? If the values are meant to be random, how can you predict them at all?"
   ]
  },
  {
   "cell_type": "code",
   "execution_count": null,
   "id": "c55fb00d-a3dc-4890-bdef-a39de46e4f79",
   "metadata": {},
   "outputs": [],
   "source": [
    "A probability distribution describes how a random variable is distributed.\n",
    "It tells us which values a random variable is most likely to take on and which values are less likely. Based on the previous data and the occurences of the random event, we can predict the outcome in terms of probabilities."
   ]
  },
  {
   "cell_type": "code",
   "execution_count": null,
   "id": "a12da471-8075-40cc-8a1d-eaf6e18c9ede",
   "metadata": {},
   "outputs": [],
   "source": [
    "# Q2. Is there a distinction between true random numbers and pseudo-random numbers, if there is one? Why are the latter considered “good enough”?"
   ]
  },
  {
   "cell_type": "code",
   "execution_count": null,
   "id": "4963f850-d381-4ca4-897d-1512fbf2ef7d",
   "metadata": {},
   "outputs": [],
   "source": [
    "True Random Numbers are true physical values while pseudo-random numbers are generated internally by a program . Latter is considered good enough as they have sort of uniform distribution."
   ]
  },
  {
   "cell_type": "code",
   "execution_count": null,
   "id": "2a09707c-153a-4681-8f06-987d6e202aff",
   "metadata": {},
   "outputs": [],
   "source": [
    "# Q3. What are the two main factors that influence the behaviour of a \"normal\" probability distribution ?"
   ]
  },
  {
   "cell_type": "code",
   "execution_count": null,
   "id": "e79bc1c2-c956-46d2-8126-b82ed40f30f0",
   "metadata": {},
   "outputs": [],
   "source": [
    "Normal Probability Distribution are influenced by two factors mean and the variance."
   ]
  },
  {
   "cell_type": "code",
   "execution_count": null,
   "id": "ed0759f0-1deb-4982-82c9-31ab8f5262b4",
   "metadata": {},
   "outputs": [],
   "source": [
    "# Q4. Provide a real-life example of a normal distribution ?"
   ]
  },
  {
   "cell_type": "code",
   "execution_count": null,
   "id": "698d8c57-702b-4587-9d61-3b8f0159678b",
   "metadata": {},
   "outputs": [],
   "source": [
    "A Real-life example of a normal distribution are heights or blood pressure measurements"
   ]
  },
  {
   "cell_type": "code",
   "execution_count": null,
   "id": "1ec14fa3-4438-42b3-af9b-de36e4382148",
   "metadata": {},
   "outputs": [],
   "source": [
    "# Q5. In the short term, how can you expect a probability distribution to behave? What do you think will happen as the number of trials grows ?"
   ]
  },
  {
   "cell_type": "code",
   "execution_count": null,
   "id": "0b5304c9-c734-4ab1-89a5-f00b322fd025",
   "metadata": {},
   "outputs": [],
   "source": [
    "Variance will decrease with number of trials"
   ]
  },
  {
   "cell_type": "code",
   "execution_count": null,
   "id": "1936a20c-846d-4fbd-97dc-8b7e6b8f4f9f",
   "metadata": {},
   "outputs": [],
   "source": [
    "# Q6. What kind of object can be shuffled by using random.shuffle ?"
   ]
  },
  {
   "cell_type": "code",
   "execution_count": null,
   "id": "0c62ae8f-634e-4127-96b4-90b35cda48c0",
   "metadata": {},
   "outputs": [],
   "source": [
    "lists (list), strings (str) and tuples (tuple) objects can be shuffled by using random.shuffle."
   ]
  },
  {
   "cell_type": "code",
   "execution_count": null,
   "id": "21c55c31-fdf1-41d3-ab8a-d17716d2fce7",
   "metadata": {},
   "outputs": [],
   "source": [
    "# Q7. Describe the math package's general categories of functions ?"
   ]
  },
  {
   "cell_type": "code",
   "execution_count": null,
   "id": "4f911e3e-7f06-4d16-ae08-521ed4258663",
   "metadata": {},
   "outputs": [],
   "source": [
    "The Math packages general categories of functions are:\n",
    "\n",
    "Trigonometric functions\n",
    "Quadratic functions\n",
    "Exponential functions\n",
    "Hyperbolic functions"
   ]
  },
  {
   "cell_type": "code",
   "execution_count": null,
   "id": "094f7345-1145-4470-adc7-6ff29ea99a83",
   "metadata": {},
   "outputs": [],
   "source": [
    "# Q8. What is the relationship between exponentiation and logarithms ?"
   ]
  },
  {
   "cell_type": "code",
   "execution_count": null,
   "id": "783572c4-ed19-4e00-a066-3f1ef55abbe2",
   "metadata": {},
   "outputs": [],
   "source": [
    "Exponentiation and logarithms are inverse of each other."
   ]
  },
  {
   "cell_type": "code",
   "execution_count": null,
   "id": "c57cde95-f586-4a3c-877e-9aecb255f648",
   "metadata": {},
   "outputs": [],
   "source": [
    "# Q9. What are the three logarithmic functions that Python supports ?"
   ]
  },
  {
   "cell_type": "code",
   "execution_count": null,
   "id": "68f3c222-6cc6-4f51-ba36-048b48c4e4d7",
   "metadata": {},
   "outputs": [],
   "source": [
    "The Three Logarithmic Functions that Python supports are:\n",
    "\n",
    "log2(x) - logarithmic value of x to base 2\n",
    "log10(x) - logarithmic value of x to base 10\n",
    "log1p(a) - This function is used to compute logarithm(1+a) ."
   ]
  },
  {
   "cell_type": "code",
   "execution_count": null,
   "id": "75cbc658-1083-4933-9e8b-ae0b279b432d",
   "metadata": {},
   "outputs": [],
   "source": []
  }
 ],
 "metadata": {
  "kernelspec": {
   "display_name": "Python 3 (ipykernel)",
   "language": "python",
   "name": "python3"
  },
  "language_info": {
   "codemirror_mode": {
    "name": "ipython",
    "version": 3
   },
   "file_extension": ".py",
   "mimetype": "text/x-python",
   "name": "python",
   "nbconvert_exporter": "python",
   "pygments_lexer": "ipython3",
   "version": "3.10.6"
  }
 },
 "nbformat": 4,
 "nbformat_minor": 5
}
