{
 "cells": [
  {
   "cell_type": "code",
   "execution_count": null,
   "id": "8c311342-1a3e-4592-bf6e-c0a5f9c0d1db",
   "metadata": {},
   "outputs": [],
   "source": [
    "# Q1. If you have any, what are your choices for increasing the comparison between different figures on the same graph?"
   ]
  },
  {
   "cell_type": "code",
   "execution_count": null,
   "id": "f3895cd1-ac09-42f6-b070-e1fc6be6f53b",
   "metadata": {},
   "outputs": [],
   "source": [
    "Matplotlib provides a convenient method called subplots for increasing the comparison between different figures on the same graph. Subplots mean a group of smaller axes (where each axis is a plot) that can exist together within a single figure."
   ]
  },
  {
   "cell_type": "code",
   "execution_count": null,
   "id": "e73e3cb5-7940-4984-bea2-39875f728666",
   "metadata": {},
   "outputs": [],
   "source": [
    "# Q2. Can you explain the benefit of compound interest over a higher rate of interest that does not compound after reading this chapter?"
   ]
  },
  {
   "cell_type": "code",
   "execution_count": null,
   "id": "40cae109-98b4-45f1-bc72-512b83a9a649",
   "metadata": {},
   "outputs": [],
   "source": [
    "Compound interest makes a sum of money grow at a faster rate than simple interest,because in addition to earning returns on the money you invest, you also earn returns on those returns at the end of every compounding period, which could be daily, monthly, quarterly or annually."
   ]
  },
  {
   "cell_type": "code",
   "execution_count": null,
   "id": "808ad2c0-77cd-49e3-ad4b-315b50fb3063",
   "metadata": {},
   "outputs": [],
   "source": [
    "# Q3. What is a histogram, exactly? Name a numpy method for creating such a graph ?"
   ]
  },
  {
   "cell_type": "code",
   "execution_count": null,
   "id": "a7839846-2999-460b-b665-c7881db91e09",
   "metadata": {},
   "outputs": [],
   "source": [
    "Histogram shows total values of X wrt Y. Which means at any particular position of X, Y value shows the total number of counts or data below that value of X. numpy.histogram() is the built in function used."
   ]
  },
  {
   "cell_type": "code",
   "execution_count": null,
   "id": "6f592310-4177-4b3d-a5a7-505d42cd670c",
   "metadata": {},
   "outputs": [],
   "source": [
    "# Q4. If necessary, how do you change the aspect ratios between the X and Y axes ?"
   ]
  },
  {
   "cell_type": "code",
   "execution_count": null,
   "id": "61f452ef-e6a5-4a9e-8d2b-2dc9a4d7be97",
   "metadata": {},
   "outputs": [],
   "source": [
    "We can use figure(figsize=(10,8)) function inside the matplot.pyplot library which we scale down or up the graph."
   ]
  },
  {
   "cell_type": "code",
   "execution_count": null,
   "id": "ab0dc799-1e3e-4727-bb12-b838c74b747a",
   "metadata": {},
   "outputs": [],
   "source": [
    "# Q5. Compare and contrast the three types of array multiplication between two numpy arrays: dot product, outer product, and regular multiplication of two numpy arrays ?"
   ]
  },
  {
   "cell_type": "code",
   "execution_count": null,
   "id": "c2c0871b-21cf-4549-90f7-792c16e151a8",
   "metadata": {},
   "outputs": [],
   "source": [
    "In regular multiplication values of same index get multiplied.\n",
    "\n",
    " - In dot product there is row wise multiplication, row of one array with column of second array and so on.\n",
    " - In outer multiplication every element of first array a1 will be multiply by every element of other array a2 such such the number of columns will be equal to the number of element in another array a2."
   ]
  },
  {
   "cell_type": "code",
   "execution_count": null,
   "id": "d9a58d97-4917-4cf1-aa8d-ec0833469014",
   "metadata": {},
   "outputs": [],
   "source": [
    "# Q6. Before you buy a home, which numpy function will you use to measure your monthly mortgage payment ?"
   ]
  },
  {
   "cell_type": "code",
   "execution_count": null,
   "id": "f87c897b-f768-4312-b490-ab5e38faf233",
   "metadata": {},
   "outputs": [],
   "source": [
    "np.pmt(rate, nper, pv) function we will be using in order to calculate monthly mortgage payment before you purchase a house.\n",
    "\n",
    " - rate = The periodic interest rate\n",
    " - nper = The number of payment periods\n",
    " - pv = The total value of the mortgage loan"
   ]
  },
  {
   "cell_type": "code",
   "execution_count": null,
   "id": "0d6342e2-5b5c-4376-84f0-f9f45aa97eea",
   "metadata": {},
   "outputs": [],
   "source": [
    "# Q7. Can string data be stored in numpy arrays? If so, list at least one restriction that applies to this data ?"
   ]
  },
  {
   "cell_type": "code",
   "execution_count": null,
   "id": "6f67ddee-13b8-46fa-8c60-7cce4c66bde2",
   "metadata": {},
   "outputs": [],
   "source": [
    "Yes, an array can store the string. The limitation which imposed on the string data is, whenever we store the data of string dtype then it should should keep in mind that the string which is having the maximum length is the limit."
   ]
  }
 ],
 "metadata": {
  "kernelspec": {
   "display_name": "Python 3 (ipykernel)",
   "language": "python",
   "name": "python3"
  },
  "language_info": {
   "codemirror_mode": {
    "name": "ipython",
    "version": 3
   },
   "file_extension": ".py",
   "mimetype": "text/x-python",
   "name": "python",
   "nbconvert_exporter": "python",
   "pygments_lexer": "ipython3",
   "version": "3.10.6"
  }
 },
 "nbformat": 4,
 "nbformat_minor": 5
}
