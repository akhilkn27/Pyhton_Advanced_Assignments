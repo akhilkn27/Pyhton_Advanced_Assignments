{
 "cells": [
  {
   "cell_type": "code",
   "execution_count": null,
   "id": "e918fc27-cdf9-449c-b391-e96eebdd0514",
   "metadata": {},
   "outputs": [],
   "source": [
    "# Q1. Explain the difference between greedy and non-greedy syntax with visual terms in as few words as possible. What is the bare minimum effort required to transform a greedy pattern into a non-greedy one? What characters or characters can you introduce or change?"
   ]
  },
  {
   "cell_type": "code",
   "execution_count": null,
   "id": "580428c3-46c2-4883-b585-8f1089d7a2af",
   "metadata": {},
   "outputs": [],
   "source": [
    "The Main difference between Greedy and Non Greedy Match Syntax is The Greedy Match will try to match as many repetitions of the quantified pattern as possible Whereas The Non Greedy Match will try to match as few repetitions of the quantified pattern as possible"
   ]
  },
  {
   "cell_type": "code",
   "execution_count": 1,
   "id": "490ad891-6e4a-4373-97ca-87fef1df0245",
   "metadata": {},
   "outputs": [
    {
     "name": "stdout",
     "output_type": "stream",
     "text": [
      "['vvvvvv', '']\n",
      "['', 'v', '', 'v', '', 'v', '', 'v', '', 'v', '', 'v', '']\n"
     ]
    }
   ],
   "source": [
    "import re\n",
    "print(re.findall(\"v*\", \"vvvvvv\")) # Greedy Match Synatx\n",
    "print(re.findall(\"v*?\", \"vvvvvv\")) # Non Greddy Syntax"
   ]
  },
  {
   "cell_type": "code",
   "execution_count": null,
   "id": "73d23cb7-b104-4414-9034-d474e92717fd",
   "metadata": {},
   "outputs": [],
   "source": [
    "# Q2. When exactly does greedy versus non-greedy make a difference? What if you're looking for a non-greedy match but the only one available is greedy?"
   ]
  },
  {
   "cell_type": "code",
   "execution_count": null,
   "id": "c3d79bae-fe7d-4da0-9c4c-e91288c49d7e",
   "metadata": {},
   "outputs": [],
   "source": [
    "The Greedy Match will try to match as many repetitions of the quantified pattern as possible. The Non Greedy Match will try to match as few repetitions of the quantified pattern as possible. If only Non Greedy Match is available, we can use other filtering or pattern matching methods of regex and further identify the required pattern."
   ]
  },
  {
   "cell_type": "code",
   "execution_count": null,
   "id": "7f67b1e7-bb12-4532-8791-f416b2979819",
   "metadata": {},
   "outputs": [],
   "source": [
    "# Q3. In a simple match of a string, which looks only for one match and does not do any replacement, is the use of a nontagged group likely to make any practical difference?"
   ]
  },
  {
   "cell_type": "code",
   "execution_count": null,
   "id": "0f99dfca-f63d-4f51-99a3-879ad33e7124",
   "metadata": {},
   "outputs": [],
   "source": [
    "In this Case The Non Tagged Group will not make any diffrence in this case."
   ]
  },
  {
   "cell_type": "code",
   "execution_count": 2,
   "id": "211ce6dd-61ae-4419-b517-140af6911ff4",
   "metadata": {},
   "outputs": [
    {
     "name": "stdout",
     "output_type": "stream",
     "text": [
      "Phone number found -> 234\n",
      "Phone number found -> 234\n"
     ]
    }
   ],
   "source": [
    "import re\n",
    "phoneNumRegex = re.compile(r'\\d\\d\\d')\n",
    "num = phoneNumRegex.search('My number is 234-567-8901.')\n",
    "print(f'Phone number found -> {num.group()}') # Non Tagged group\n",
    "print(f'Phone number found -> {num.group(0)}') # Tagged Group"
   ]
  },
  {
   "cell_type": "code",
   "execution_count": null,
   "id": "889dee42-fe62-4752-a24d-aabd4b4fecd4",
   "metadata": {},
   "outputs": [],
   "source": [
    "# Q4. Describe a scenario in which using a nontagged category would have a significant impact on the program's outcomes ?"
   ]
  },
  {
   "cell_type": "code",
   "execution_count": null,
   "id": "9311d50f-8106-4acb-9d7a-376386a0bde7",
   "metadata": {},
   "outputs": [],
   "source": [
    "Here in the below Code Snippet . decimal is not tagged or captured. It will useful in scenarios where the separator of value in a string is of no use and we need to capture only the values."
   ]
  },
  {
   "cell_type": "code",
   "execution_count": 3,
   "id": "172fbade-6b20-460d-b2e6-3c7ebc05f1ff",
   "metadata": {},
   "outputs": [
    {
     "data": {
      "text/plain": [
       "('135', '456')"
      ]
     },
     "execution_count": 3,
     "metadata": {},
     "output_type": "execute_result"
    }
   ],
   "source": [
    "import re\n",
    "text='135.456'\n",
    "pattern=r'(\\d+)(?:.)(\\d+)'\n",
    "regobj=re.compile(pattern)\n",
    "matobj=regobj.search(text)\n",
    "matobj.groups()"
   ]
  },
  {
   "cell_type": "code",
   "execution_count": null,
   "id": "47deec8f-342d-43e5-9778-53973d5d0be9",
   "metadata": {},
   "outputs": [],
   "source": [
    "# Q5. Unlike a normal regex pattern, a look-ahead condition does not consume the characters it examines. Describe a situation in which this could make a difference in the results of your programme ?"
   ]
  },
  {
   "cell_type": "code",
   "execution_count": null,
   "id": "b2f7c6f9-2c90-475d-982d-a52f67819ccb",
   "metadata": {},
   "outputs": [],
   "source": [
    "While counting the number of multiple lines or mutiple sentence in a string the positive look ahead makes a difference, without which we wont get the correct count of lines or sentences in a string."
   ]
  },
  {
   "cell_type": "code",
   "execution_count": null,
   "id": "0b950aae-a41f-41b6-ad7f-7ba8b91a4160",
   "metadata": {},
   "outputs": [],
   "source": [
    "# Q6. In standard expressions, what is the difference between positive look-ahead and negative look-ahead ?"
   ]
  },
  {
   "cell_type": "code",
   "execution_count": null,
   "id": "9d2b0f26-2f19-4e94-a66d-b6b7953a3b35",
   "metadata": {},
   "outputs": [],
   "source": [
    "Positive Lookahead allows to add a condition for what follows. Negative Lookahead is similar, but it looks behind. That is, it allows to match a pattern only if there’s something before it."
   ]
  },
  {
   "cell_type": "code",
   "execution_count": null,
   "id": "54d28e02-5975-4d7d-be74-cf7f953b82d1",
   "metadata": {},
   "outputs": [],
   "source": [
    "# Q7. What is the benefit of referring to groups by name rather than by number in a standard expression?"
   ]
  },
  {
   "cell_type": "code",
   "execution_count": null,
   "id": "74aa82e2-af9f-4f52-bd75-c67f57f7eb43",
   "metadata": {},
   "outputs": [],
   "source": [
    "Referring to groups by name rather than by number in a standard expression helps to keep the code clear and easy to understand."
   ]
  },
  {
   "cell_type": "code",
   "execution_count": null,
   "id": "cac1fdc7-0ee4-4a47-86ce-87f45a915e0c",
   "metadata": {},
   "outputs": [],
   "source": [
    "# Q8. Can you identify repeated items within a target string using named groups, as in \"The cow jumped over the moon\"?"
   ]
  },
  {
   "cell_type": "code",
   "execution_count": 4,
   "id": "4cf85431-1aa6-4c54-a860-30d500495169",
   "metadata": {},
   "outputs": [
    {
     "data": {
      "text/plain": [
       "['The', 'the']"
      ]
     },
     "execution_count": 4,
     "metadata": {},
     "output_type": "execute_result"
    }
   ],
   "source": [
    "import re\n",
    "text = \"The cow jumped over the moon\"\n",
    "regobj=re.compile(r'(?P<w1>The)',re.I)\n",
    "regobj.findall(text)"
   ]
  },
  {
   "cell_type": "code",
   "execution_count": null,
   "id": "b80cf057-edb1-401a-823f-47f9005cba31",
   "metadata": {},
   "outputs": [],
   "source": [
    "# Q9. When parsing a string, what is at least one thing that the Scanner interface does for you that the re.findall feature does not ?"
   ]
  },
  {
   "cell_type": "code",
   "execution_count": null,
   "id": "15275c38-629f-4eef-9be8-d1c209543bfb",
   "metadata": {},
   "outputs": [],
   "source": [
    "re.findall() module is used to search for all occurrences that match a given pattern. In contrast, re.search() will only return the first occurrence that matches the specified pattern. re.findall() will iterate over all the lines of the file and will return all non-overlapping matches of pattern in a single step."
   ]
  },
  {
   "cell_type": "code",
   "execution_count": null,
   "id": "952535b4-bbb9-40dc-8591-53c819b51e98",
   "metadata": {},
   "outputs": [],
   "source": [
    "# Q10. Does a scanner object have to be named scanner?"
   ]
  },
  {
   "cell_type": "code",
   "execution_count": null,
   "id": "2cebbd85-231f-4dee-8641-d3e2d6ee0c98",
   "metadata": {},
   "outputs": [],
   "source": [
    "Yes, It may have any name."
   ]
  },
  {
   "cell_type": "code",
   "execution_count": null,
   "id": "205f7bf6-95f0-4a53-a7f0-c48a08d8e886",
   "metadata": {},
   "outputs": [],
   "source": []
  },
  {
   "cell_type": "code",
   "execution_count": null,
   "id": "06503026-04f3-43de-8fa0-12716a76f925",
   "metadata": {},
   "outputs": [],
   "source": []
  }
 ],
 "metadata": {
  "kernelspec": {
   "display_name": "Python 3 (ipykernel)",
   "language": "python",
   "name": "python3"
  },
  "language_info": {
   "codemirror_mode": {
    "name": "ipython",
    "version": 3
   },
   "file_extension": ".py",
   "mimetype": "text/x-python",
   "name": "python",
   "nbconvert_exporter": "python",
   "pygments_lexer": "ipython3",
   "version": "3.10.6"
  }
 },
 "nbformat": 4,
 "nbformat_minor": 5
}
