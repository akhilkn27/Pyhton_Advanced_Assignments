{
 "cells": [
  {
   "cell_type": "code",
   "execution_count": null,
   "id": "f101f590-98cf-4b4f-a87e-a2ed39d347d9",
   "metadata": {},
   "outputs": [],
   "source": [
    "# Q1. Describe the differences between text and binary files in a single paragraph."
   ]
  },
  {
   "cell_type": "code",
   "execution_count": null,
   "id": "52cf2846-82dc-498a-9519-a14c0867bc2e",
   "metadata": {},
   "outputs": [],
   "source": [
    "Text files are special subset of binary files that are used to store human readable characters as a rich text document or plain text document. Text files also store data in sequential bytes but bits in text file represents characters.\n",
    "\n",
    "Binary files are those typical files that store data in the form of sequence of bytes grouped into eight bits or sometimes sixteen bits. These bits represent custom data and such files can store multiple types of data (images, audio, text, etc) under a single file."
   ]
  },
  {
   "cell_type": "code",
   "execution_count": null,
   "id": "e43f8ac8-d56d-4fe0-a42d-3c6ad2d3cb49",
   "metadata": {},
   "outputs": [],
   "source": [
    "# Q2. What are some scenarios where using text files will be the better option? When would you like to use binary files instead of text files?"
   ]
  },
  {
   "cell_type": "code",
   "execution_count": null,
   "id": "c8cd8328-854f-44f1-931c-e57d511c5123",
   "metadata": {},
   "outputs": [],
   "source": [
    "Text files are less prone to get corrupted as any undesired change may just show up once the file is opened and then can easily be removed. Whereas Use binary files instead of text files for image data."
   ]
  },
  {
   "cell_type": "code",
   "execution_count": null,
   "id": "9f148b38-2f57-4cac-8ef9-660548adc712",
   "metadata": {},
   "outputs": [],
   "source": [
    "# Q3. What are some of the issues with using binary operations to read and write a Python integer directly to disc?"
   ]
  },
  {
   "cell_type": "code",
   "execution_count": null,
   "id": "0931e38b-1d97-42d0-a2ab-4536e17e373a",
   "metadata": {},
   "outputs": [],
   "source": [
    "When we read or write a python integer using binary operations\n",
    "\n",
    "Binary operations deal with raw data\n",
    "One needs to identify how many bytes one would read or write."
   ]
  },
  {
   "cell_type": "code",
   "execution_count": null,
   "id": "b01a6b22-33bd-43dc-99e4-a8fdb1b127a9",
   "metadata": {},
   "outputs": [],
   "source": [
    "# Q4. Describe a benefit of using the with keyword instead of explicitly opening a file ?"
   ]
  },
  {
   "cell_type": "code",
   "execution_count": null,
   "id": "bde2107a-6ff1-4446-94b6-7f140d30e598",
   "metadata": {},
   "outputs": [],
   "source": [
    "When a file is opened using the with keyword, if some exceptions occur after opening a file, or at the end of the file it automatically does the closing of the file. There by not leaving an file in open mode and there would no need to explicitly close a file."
   ]
  },
  {
   "cell_type": "code",
   "execution_count": null,
   "id": "3ef1e3c6-8a6b-4b84-8fa7-d5986fe07887",
   "metadata": {},
   "outputs": [],
   "source": [
    "# Q5. Does Python have the trailing newline while reading a line of text? Does Python append a newline when you write a line of text?"
   ]
  },
  {
   "cell_type": "code",
   "execution_count": null,
   "id": "0b77d216-27b9-4d9c-b696-f80b1f28def5",
   "metadata": {},
   "outputs": [],
   "source": [
    "Yes, Python have the trailing newline while reading a line of text. When we write a newline has to be provided in python excpicitly."
   ]
  },
  {
   "cell_type": "code",
   "execution_count": null,
   "id": "018cd009-9d06-4b86-9263-f431049aec5e",
   "metadata": {},
   "outputs": [],
   "source": [
    "# Q6. What file operations enable for random-access operation?"
   ]
  },
  {
   "cell_type": "code",
   "execution_count": null,
   "id": "d8279830-a9b8-4543-afa8-cfff868f6d3f",
   "metadata": {},
   "outputs": [],
   "source": [
    "The file operations enable for random-access operation are seek() and tell()"
   ]
  },
  {
   "cell_type": "code",
   "execution_count": null,
   "id": "db6a3dff-979f-4544-9011-bcf83965a3c4",
   "metadata": {},
   "outputs": [],
   "source": [
    "# Q7. When do you think you'll use the struct package the most?"
   ]
  },
  {
   "cell_type": "code",
   "execution_count": null,
   "id": "7ace34a6-84d5-4c2b-932a-d8ebd83d4d9a",
   "metadata": {},
   "outputs": [],
   "source": [
    "The struct package is mostly used while converting a common python types into C language types."
   ]
  },
  {
   "cell_type": "code",
   "execution_count": null,
   "id": "36924156-7e7e-40fb-8113-2e7a94573d16",
   "metadata": {},
   "outputs": [],
   "source": [
    "# Q8. When is pickling the best option?"
   ]
  },
  {
   "cell_type": "code",
   "execution_count": null,
   "id": "d76090e6-0b81-428e-b787-4b25397e7281",
   "metadata": {},
   "outputs": [],
   "source": [
    "Pickling is best option for creating a new binary file using python."
   ]
  },
  {
   "cell_type": "code",
   "execution_count": null,
   "id": "6e1e5280-4291-4c67-b9a1-4bda183945bf",
   "metadata": {},
   "outputs": [],
   "source": [
    "# Q9. When will it be best to use the shelve package?"
   ]
  },
  {
   "cell_type": "code",
   "execution_count": null,
   "id": "2fa1bd71-ee0a-42f5-ac77-b39c5d4c8279",
   "metadata": {},
   "outputs": [],
   "source": [
    "Shelve package is used to pickle data but treats the entire file as dictionary."
   ]
  },
  {
   "cell_type": "code",
   "execution_count": null,
   "id": "b266f447-c043-48aa-bb27-a22353a46d13",
   "metadata": {},
   "outputs": [],
   "source": [
    "# Q10. What is a special restriction when using the shelve package, as opposed to using other data dictionaries?"
   ]
  },
  {
   "cell_type": "code",
   "execution_count": null,
   "id": "dd736fe4-6b65-4da2-846c-8b9ee16dd34c",
   "metadata": {},
   "outputs": [],
   "source": [
    "Only string data type can be used as key in this special dictionary object, whereas any picklable Python object can be used as value."
   ]
  }
 ],
 "metadata": {
  "kernelspec": {
   "display_name": "Python 3 (ipykernel)",
   "language": "python",
   "name": "python3"
  },
  "language_info": {
   "codemirror_mode": {
    "name": "ipython",
    "version": 3
   },
   "file_extension": ".py",
   "mimetype": "text/x-python",
   "name": "python",
   "nbconvert_exporter": "python",
   "pygments_lexer": "ipython3",
   "version": "3.10.6"
  }
 },
 "nbformat": 4,
 "nbformat_minor": 5
}
