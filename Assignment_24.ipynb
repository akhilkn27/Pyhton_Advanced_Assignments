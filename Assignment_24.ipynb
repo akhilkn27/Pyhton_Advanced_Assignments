{
 "cells": [
  {
   "cell_type": "code",
   "execution_count": null,
   "id": "9e315c76-dbea-4f6b-a5bb-813e8b6eff24",
   "metadata": {},
   "outputs": [],
   "source": [
    "# Q1. Is it permissible to use several import statements to import the same module? What would the goal be? Can you think of a situation where it would be beneficial?"
   ]
  },
  {
   "cell_type": "code",
   "execution_count": null,
   "id": "e9da0c1f-3253-4560-b266-31b1771de4db",
   "metadata": {},
   "outputs": [],
   "source": [
    "Yes, it is permissible to use several import statements to import the same module. It is used in case when we have to import multiple functions from same module."
   ]
  },
  {
   "cell_type": "code",
   "execution_count": null,
   "id": "3a0bc404-8143-48aa-a51f-e740a4a27b83",
   "metadata": {},
   "outputs": [],
   "source": [
    "# Q2. What are some of a module&#39;s characteristics? (Name at least one.)"
   ]
  },
  {
   "cell_type": "code",
   "execution_count": null,
   "id": "af5e9489-6b24-4bd7-aede-ffcfcb07ea01",
   "metadata": {},
   "outputs": [],
   "source": [
    "The following are some of a module characteristics:\n",
    "\n",
    "__name__ : It returns the name of the module"
   ]
  },
  {
   "cell_type": "code",
   "execution_count": null,
   "id": "6d0ac506-6279-40a9-9f34-f5c6b26981e3",
   "metadata": {},
   "outputs": [],
   "source": [
    "# Q3. Circular importing, such as when two modules import each other, can lead to dependencies and bugs that aren't visible. How can you go about creating a program that avoids mutual importing?"
   ]
  },
  {
   "cell_type": "code",
   "execution_count": null,
   "id": "460f1838-1a71-497d-92da-33bc7a14f52c",
   "metadata": {},
   "outputs": [],
   "source": [
    "Circular importing means importing the two modules in each other. If suppose we are wokring in MOD1.py file and it is importing some function say F2() from some other module say MOD2.PY file or we can do vice-versa. What will happen is: This will give an import error.\n",
    "\n",
    "This is because when we import F2() function from module MOD2.py, then this will execute MOD2.py file. And in MOD2.py file there is an another statement of importing MOD1.py module.\n",
    "\n",
    "This will result in endless loop. To avoid this error just do one thingWe can use if __name__ == '__main__'\n",
    "\n",
    "In the function, you cannot directly refer to the function in the program. The addition of this sentence avoids the endless loop of the program ."
   ]
  },
  {
   "cell_type": "code",
   "execution_count": null,
   "id": "c417d792-3f39-4cd2-8b3b-d358a296e58e",
   "metadata": {},
   "outputs": [],
   "source": [
    "# Q4. Why is __all__ in Python ?"
   ]
  },
  {
   "cell_type": "code",
   "execution_count": null,
   "id": "85c1f8f3-a99e-48ed-9eda-b7269acd74ea",
   "metadata": {},
   "outputs": [],
   "source": [
    "It provides list of all modules present in a library."
   ]
  },
  {
   "cell_type": "code",
   "execution_count": null,
   "id": "dea37c46-a318-4f43-a1b1-ef4385824023",
   "metadata": {},
   "outputs": [],
   "source": [
    "# Q5. In what situation is it useful to refer to the __name__ attribute or the string __main_ _ ?"
   ]
  },
  {
   "cell_type": "code",
   "execution_count": null,
   "id": "30b75572-2515-4397-870f-24d9cc2e723c",
   "metadata": {},
   "outputs": [],
   "source": [
    "During the time of execution of the code if we want to refer the module in which we are working on then we uses name attribute. In that case it will return the module in which we are working on. Suppose if that moudle is being imported from some other module then name will have the name of that moudle from where the current module has been imported. The current module in which we are working is refer to the string __main __."
   ]
  }
 ],
 "metadata": {
  "kernelspec": {
   "display_name": "Python 3 (ipykernel)",
   "language": "python",
   "name": "python3"
  },
  "language_info": {
   "codemirror_mode": {
    "name": "ipython",
    "version": 3
   },
   "file_extension": ".py",
   "mimetype": "text/x-python",
   "name": "python",
   "nbconvert_exporter": "python",
   "pygments_lexer": "ipython3",
   "version": "3.10.6"
  }
 },
 "nbformat": 4,
 "nbformat_minor": 5
}
