{
 "cells": [
  {
   "cell_type": "code",
   "execution_count": null,
   "id": "50bd0157-7737-41cb-b7e7-7e31cd4fc689",
   "metadata": {},
   "outputs": [],
   "source": [
    "# Q1. What are the two latest user-defined exception constraints in Python 3.X?"
   ]
  },
  {
   "cell_type": "code",
   "execution_count": null,
   "id": "2752c9c1-471e-4162-9d82-ef934fd90b6c",
   "metadata": {},
   "outputs": [],
   "source": [
    "raise and assert are the two latest user-defined exception constraints in Python 3.X"
   ]
  },
  {
   "cell_type": "code",
   "execution_count": null,
   "id": "f17d963c-ba72-45e0-8661-21e1eeb6d655",
   "metadata": {},
   "outputs": [],
   "source": [
    "# Q2. How are class-based exceptions that have been raised matched to handlers?"
   ]
  },
  {
   "cell_type": "code",
   "execution_count": null,
   "id": "fa501c02-d2ba-433b-9afa-66898971e939",
   "metadata": {},
   "outputs": [],
   "source": [
    "In python, Users can define custom exceptions by creating a new class. This exception class has to be derived, either directly or indirectly from built-in Exception class. This new exception class like other exceptions can be raised using the raise statement with an optional error message."
   ]
  },
  {
   "cell_type": "code",
   "execution_count": 1,
   "id": "a4db3fb4-3b23-48e0-909b-d2616c8ac349",
   "metadata": {},
   "outputs": [
    {
     "ename": "ToYoungException",
     "evalue": "To Young For Voting",
     "output_type": "error",
     "traceback": [
      "\u001b[0;31m---------------------------------------------------------------------------\u001b[0m",
      "\u001b[0;31mToYoungException\u001b[0m                          Traceback (most recent call last)",
      "Cell \u001b[0;32mIn [1], line 5\u001b[0m\n\u001b[1;32m      3\u001b[0m         \u001b[38;5;28mself\u001b[39m\u001b[38;5;241m.\u001b[39mmsg \u001b[38;5;241m=\u001b[39m msg\n\u001b[1;32m      4\u001b[0m age \u001b[38;5;241m=\u001b[39m \u001b[38;5;241m12\u001b[39m\n\u001b[0;32m----> 5\u001b[0m \u001b[38;5;28;01mif\u001b[39;00m age \u001b[38;5;241m<\u001b[39m\u001b[38;5;241m=\u001b[39m \u001b[38;5;241m18\u001b[39m: \u001b[38;5;28;01mraise\u001b[39;00m ToYoungException(\u001b[38;5;124m'\u001b[39m\u001b[38;5;124mTo Young For Voting\u001b[39m\u001b[38;5;124m'\u001b[39m)\n",
      "\u001b[0;31mToYoungException\u001b[0m: To Young For Voting"
     ]
    }
   ],
   "source": [
    "class ToYoungException(Exception):\n",
    "    def __init__(self,msg):\n",
    "        self.msg = msg\n",
    "age = 12\n",
    "if age <= 18: raise ToYoungException('To Young For Voting')"
   ]
  },
  {
   "cell_type": "code",
   "execution_count": null,
   "id": "840bb768-5b36-4393-be86-882bff513daa",
   "metadata": {},
   "outputs": [],
   "source": [
    "# Q3. Describe two methods for attaching context information to exception artefacts."
   ]
  },
  {
   "cell_type": "code",
   "execution_count": null,
   "id": "df4a8829-ad1e-4047-8678-8753e054cd2b",
   "metadata": {},
   "outputs": [],
   "source": [
    "The process() method of LoggerAdapter is where the contextual information is added to the logging output. its passes the message and keyword arguments of the logging call, and it passes back modified versions of these to use in the call to the underlying logger.\n",
    "\n",
    "Other method that can be used is exception(), Logs a messgae with level ERROR on this logger. The arguments are interpreted as for debug(). Exception info is added to the logging message."
   ]
  },
  {
   "cell_type": "code",
   "execution_count": null,
   "id": "79ca8e55-15c2-46c3-94c9-cbdbfb2040d5",
   "metadata": {},
   "outputs": [],
   "source": [
    "# Q4. Describe two methods for specifying the text of an exception object&#39;s error message."
   ]
  },
  {
   "cell_type": "code",
   "execution_count": null,
   "id": "f0fb456b-648b-460d-8047-c44d5393dee4",
   "metadata": {},
   "outputs": [],
   "source": [
    "raise and assert are two methods for specifying the text of an exception objects error message.raise statement is used to trigger explicit exception, if certain condition is not as per requirement of programmer. it helps in triggering exception as per need of programmer and logic.\n",
    "\n",
    "There are few assertions that programmer always want to be True to avoid code failure. This type of requirment is fullfilled by assert statement. This statement takes a Boolean Condition output of which if True, further program executes. if output of assert statement is False it raises an Assertion Error."
   ]
  },
  {
   "cell_type": "code",
   "execution_count": null,
   "id": "8c51733b-f3f0-4062-b69d-853778635b35",
   "metadata": {},
   "outputs": [],
   "source": [
    "# Q5. Why do you no longer use string-based exceptions?"
   ]
  },
  {
   "cell_type": "code",
   "execution_count": null,
   "id": "e61e580f-cabb-473d-ba3d-9aec8f32d6cb",
   "metadata": {},
   "outputs": [],
   "source": [
    "String-based Exceptions doesnot inherit from Exceptions. so plain exceptions catch all exceptions and not only system."
   ]
  }
 ],
 "metadata": {
  "kernelspec": {
   "display_name": "Python 3 (ipykernel)",
   "language": "python",
   "name": "python3"
  },
  "language_info": {
   "codemirror_mode": {
    "name": "ipython",
    "version": 3
   },
   "file_extension": ".py",
   "mimetype": "text/x-python",
   "name": "python",
   "nbconvert_exporter": "python",
   "pygments_lexer": "ipython3",
   "version": "3.10.6"
  }
 },
 "nbformat": 4,
 "nbformat_minor": 5
}
