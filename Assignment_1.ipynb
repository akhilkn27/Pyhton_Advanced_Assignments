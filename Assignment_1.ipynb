{
 "cells": [
  {
   "cell_type": "code",
   "execution_count": null,
   "id": "19bcca44-4554-4051-adca-7a2d204ccb3d",
   "metadata": {},
   "outputs": [],
   "source": [
    "# Q1. What is the purpose of Python's OOP?"
   ]
  },
  {
   "cell_type": "code",
   "execution_count": null,
   "id": "fb071d25-c921-44c3-bb97-4bdec93a400f",
   "metadata": {},
   "outputs": [],
   "source": [
    "Object-oriented programming is a programming paradigm that provides a means of structuring programs so that properties \n",
    "and behaviors are bundled into individual objects\n",
    "\n",
    "- In Python, object-oriented Programming (OOPs) uses objects and classes in programming.\n",
    "- It aims to implement real-world entities like inheritance, polymorphisms, encapsulation, etc. in the programming.\n",
    "- The main concept of OOPs is to bind the data and the functions that work on that together as a single unit so that no other part of the code can access this data.\n",
    "- It comes up with the following advantages:\n",
    "- It helps to divide our over all program into different small segments and thus making it solving easy with the use of objects\n",
    "- Helps in easy maintenance and modification of existing program\n",
    "- Multiple instances of an object can be made."
   ]
  },
  {
   "cell_type": "code",
   "execution_count": null,
   "id": "569e2ff8-a9f3-4030-b3e7-f495baee2df9",
   "metadata": {},
   "outputs": [],
   "source": [
    "# Q2. Where does an inheritance search look for an attribute?"
   ]
  },
  {
   "cell_type": "code",
   "execution_count": null,
   "id": "b74bde10-3019-4373-9d95-33e38576eed9",
   "metadata": {},
   "outputs": [],
   "source": [
    "Python searches for an attribute in an upward tree of attributes. It first searches for the attribute in its instance and then looks in the class \n",
    "it is generated from, to all super classes listed in its class header"
   ]
  },
  {
   "cell_type": "code",
   "execution_count": 1,
   "id": "f7dc001a-0656-4633-8ac1-11bb17d8511f",
   "metadata": {},
   "outputs": [],
   "source": [
    "# Q3. How do you distinguish between a class object and an instance object?"
   ]
  },
  {
   "cell_type": "code",
   "execution_count": null,
   "id": "ee2d0123-2655-400b-81f7-c648a3d3de06",
   "metadata": {},
   "outputs": [],
   "source": [
    "The differences between a class object and an instance object are:\n",
    "\n",
    "- Class is a template for creating objects whereas object is an instance of class\n",
    "- Seperate memory is allocated for each object whenever an object is created. but for a class this doesnot happens.\n",
    "- A Class is created once. Many objects are created using a class.\n",
    "- As Classes have no allocated memory. they cant be manipulated. but objects can be manipulated."
   ]
  },
  {
   "cell_type": "code",
   "execution_count": 2,
   "id": "aef8e134-b960-46be-a459-08eb449a64a3",
   "metadata": {},
   "outputs": [],
   "source": [
    "# Q4. What makes the first argument in a class’s method function special?"
   ]
  },
  {
   "cell_type": "code",
   "execution_count": null,
   "id": "c793787b-cd6d-4917-8414-72b3e65d1797",
   "metadata": {},
   "outputs": [],
   "source": [
    "Python Classes usually have three types of methods which are:\n",
    "\n",
    "- Instance Methods (object level methods)\n",
    "- Class Methods (class level methods)\n",
    "- Static Methods (general utility methods)\n",
    "- self is the first argument for instance methods. which refers to the object itself\n",
    "- cls is the first argument for class methods which refers to the class itself"
   ]
  },
  {
   "cell_type": "code",
   "execution_count": 3,
   "id": "f2be6c35-4fbc-4344-813a-a8fa436d1e09",
   "metadata": {},
   "outputs": [],
   "source": [
    "# Q5. What is the purpose of the __init__ method?"
   ]
  },
  {
   "cell_type": "code",
   "execution_count": null,
   "id": "2ce3925f-2e46-4b8d-b079-7118ff1d8c08",
   "metadata": {},
   "outputs": [],
   "source": [
    "__init__ is a reseved method in python classes. It serves the role of a constructor in object oriented terminology. This method is called when an object is created from a class \n",
    "and it allows the class to initialize the attributes of the class"
   ]
  },
  {
   "cell_type": "code",
   "execution_count": 4,
   "id": "4dd85ad9-4b22-4954-98ba-94dd322f87b7",
   "metadata": {},
   "outputs": [],
   "source": [
    "# Q6. What is the process for creating a class instance?"
   ]
  },
  {
   "cell_type": "code",
   "execution_count": null,
   "id": "bea185a9-3de9-4552-8615-04298808d6f5",
   "metadata": {},
   "outputs": [],
   "source": [
    "To create a class instance, we need to call the class by its name and pass the arguments to the class, which its init method accepts."
   ]
  },
  {
   "cell_type": "code",
   "execution_count": 5,
   "id": "c5b5601e-c3cf-45d3-8f1a-c61747a8b36c",
   "metadata": {},
   "outputs": [],
   "source": [
    "# Q7. What is the process for creating a class?"
   ]
  },
  {
   "cell_type": "code",
   "execution_count": null,
   "id": "25b74d97-4db9-49d8-a589-7e37a9540547",
   "metadata": {},
   "outputs": [],
   "source": [
    "class keyword is used to created a class in python. The syntax to create a class in python is class <classname>:\n",
    "Example: class Car: ➞ this creates a class called Car"
   ]
  },
  {
   "cell_type": "code",
   "execution_count": 6,
   "id": "65928c9d-d536-4129-931d-c3d8199d2642",
   "metadata": {},
   "outputs": [],
   "source": [
    "# Q8. How would you define the superclasses of a class?"
   ]
  },
  {
   "cell_type": "code",
   "execution_count": null,
   "id": "85dbae8c-760d-4a58-a41e-316ddd4200f4",
   "metadata": {},
   "outputs": [],
   "source": [
    "Superclass/Parent class is given as a arugment to the child class\n",
    "\n",
    "Example: class Employee(Person): Here child class Employee inherits attributes and methofs from Superclass/Parent Person"
   ]
  }
 ],
 "metadata": {
  "kernelspec": {
   "display_name": "Python 3 (ipykernel)",
   "language": "python",
   "name": "python3"
  },
  "language_info": {
   "codemirror_mode": {
    "name": "ipython",
    "version": 3
   },
   "file_extension": ".py",
   "mimetype": "text/x-python",
   "name": "python",
   "nbconvert_exporter": "python",
   "pygments_lexer": "ipython3",
   "version": "3.10.6"
  }
 },
 "nbformat": 4,
 "nbformat_minor": 5
}
