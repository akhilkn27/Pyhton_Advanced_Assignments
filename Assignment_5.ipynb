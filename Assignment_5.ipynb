{
 "cells": [
  {
   "cell_type": "code",
   "execution_count": 1,
   "id": "effee2a3-93e5-4c13-9d33-9d59e178858d",
   "metadata": {},
   "outputs": [],
   "source": [
    "# Q1. What is the meaning of multiple inheritance?"
   ]
  },
  {
   "cell_type": "code",
   "execution_count": null,
   "id": "a50d5559-1e2f-4224-87ef-cf3c33f7957b",
   "metadata": {},
   "outputs": [],
   "source": [
    "Inheritence is nothing but reusing the code of Parent class by the child class. Similary when a child class inherits its properties from multiple Parent classes this scenario is called Multiple Inheritence"
   ]
  },
  {
   "cell_type": "code",
   "execution_count": null,
   "id": "7799b8b7-5074-4be5-ab38-8498a95f7168",
   "metadata": {},
   "outputs": [],
   "source": [
    "class Parent_one:\n",
    "    pass\n",
    "class Parent_two:\n",
    "    pass\n",
    "class child(Parent_one,Parent_two):\n",
    "    pass\n"
   ]
  },
  {
   "cell_type": "code",
   "execution_count": 2,
   "id": "bdb0c782-d739-40b3-b076-339342b05851",
   "metadata": {},
   "outputs": [],
   "source": [
    "# Q2. What is the concept of delegation?"
   ]
  },
  {
   "cell_type": "code",
   "execution_count": null,
   "id": "9407cd18-bb06-4bab-9688-909b768ee177",
   "metadata": {},
   "outputs": [],
   "source": [
    "Delegation provides a proxy object for any class thay you want on top of the main class. its like a wrapper to your class so that you can access limited resources of the main class.\n",
    "\n",
    "it Wraps the object of main class into a smaller object with limited access\n",
    "\n",
    "Simply Delegation means that you can include a instance of another class as an instance variable, and forward messages to the instance."
   ]
  },
  {
   "cell_type": "code",
   "execution_count": 3,
   "id": "29af92d5-3c18-4206-a530-8b74cb4c481a",
   "metadata": {},
   "outputs": [
    {
     "name": "stdout",
     "output_type": "stream",
     "text": [
      "Hey iam back\n",
      "Hey iam back\n",
      "Hey iam back\n",
      "Iam the main class\n"
     ]
    }
   ],
   "source": [
    "class Myclass:\n",
    "    def sayHi(self):\n",
    "        print('Hey iam back')\n",
    "    def whoAmI(self):\n",
    "        print('Iam the main class')\n",
    "class NewClass:\n",
    "    def __init__(self,obj):\n",
    "        self.main = obj\n",
    "    def welcome(self):\n",
    "        self.main.sayHi()\n",
    "\n",
    "m = Myclass()        \n",
    "n = NewClass(m)\n",
    "m.sayHi()\n",
    "n.main.sayHi()\n",
    "n.welcome()\n",
    "n.main.whoAmI()"
   ]
  },
  {
   "cell_type": "code",
   "execution_count": null,
   "id": "e3bd83a9-1581-4885-9bd8-cbe67d6a3cca",
   "metadata": {},
   "outputs": [],
   "source": [
    "# Q3. What is the concept of composition?"
   ]
  },
  {
   "cell_type": "code",
   "execution_count": null,
   "id": "c251b6fa-51d1-4d0d-9a7c-d165c1ef6226",
   "metadata": {},
   "outputs": [],
   "source": [
    "In the concept of Composition, a class refers to one or more other classes by using instances of those classes as a instance variable. irrespective of inheritence in this approach all the parent class members are not inherited into child class, but only required methods from a class are used by using class instances."
   ]
  },
  {
   "cell_type": "code",
   "execution_count": null,
   "id": "5831f92c-6804-4994-ba93-b4ebb5987927",
   "metadata": {},
   "outputs": [],
   "source": [
    "class Salary:\n",
    "    def __init__(self,pay):\n",
    "        self.pay = pay\n",
    "    def get_total(self):\n",
    "        return self.pay*12\n",
    "    \n",
    "class Employee:\n",
    "    def __init__(self,pay,bonus):\n",
    "        self.pay = pay\n",
    "        self.bonus = bonus\n",
    "        self.obj_salary = Salary(self.pay)\n",
    "    def annual_salary(self):\n",
    "        return f'Total Salary : {str(self.obj_salary.get_total())}'\n",
    "\n",
    "obj_emp = Employee(800,500)\n",
    "print(obj_emp.annual_salary())"
   ]
  },
  {
   "cell_type": "code",
   "execution_count": null,
   "id": "bd4d129f-36d8-480b-9ab2-e45e8720b705",
   "metadata": {},
   "outputs": [],
   "source": [
    "# Q4. What are bound methods and how do we use them?"
   ]
  },
  {
   "cell_type": "code",
   "execution_count": null,
   "id": "70e758aa-8001-41cb-b260-b2df81aa7e7b",
   "metadata": {},
   "outputs": [],
   "source": [
    "If a function is an attribute of class and it is accessed via the instances, they are called bound methods. A bound method is one that has self as its first argument. Since these are dependent on the instance of classes, these are also known as instance methods."
   ]
  },
  {
   "cell_type": "code",
   "execution_count": 4,
   "id": "d0be87ff-a710-41ac-b428-19b65cc601a6",
   "metadata": {},
   "outputs": [
    {
     "name": "stdout",
     "output_type": "stream",
     "text": [
      "Called method_one\n",
      "Called method_two\n",
      "Called method_two\n",
      "Called method_three\n"
     ]
    }
   ],
   "source": [
    "class Test:\n",
    "    def method_one(self): # bound method\n",
    "        print(\"Called method_one\")\n",
    "    @classmethod\n",
    "    def method_two(cls): # unbound method\n",
    "        print(\"Called method_two\")\n",
    "    @staticmethod\n",
    "    def method_three(): # static method\n",
    "        print(\"Called method_three\")\n",
    "\n",
    "test = Test()\n",
    "test.method_one() # accessing through instance object\n",
    "test.method_two() # accessing through instance object\n",
    "Test.method_two() # accessing directly through class\n",
    "Test.method_three() # accessing directly through class"
   ]
  },
  {
   "cell_type": "code",
   "execution_count": null,
   "id": "291632bb-bcac-49c8-8936-d340cb10ac7e",
   "metadata": {},
   "outputs": [],
   "source": [
    "# 5. What is the purpose of pseudoprivate attributes?"
   ]
  },
  {
   "cell_type": "code",
   "execution_count": null,
   "id": "c3520cb1-e6fc-4a6c-88ca-b59f188f3c96",
   "metadata": {},
   "outputs": [],
   "source": [
    "Pseudoprivate attributes are also useful in larger frameworks or tools, both to avoid introducing new method names that might accidentally hide definitions elsewhere in the class tree and to reduce the chance of internal methods being replaced by names defined lower in the tree. If a method is intended for use only within a class that may be mixed into other classes, the double underscore prefix ensures that the method won't interfere with other names in the tree, especially in multiple-inheritance scenarios\n",
    "\n",
    "Pseudoprivate names also prevent subclasses from accidentally redefining the internal method's names,"
   ]
  },
  {
   "cell_type": "code",
   "execution_count": null,
   "id": "3adf8009-2e25-4943-b399-bf9c7c4d85a9",
   "metadata": {},
   "outputs": [],
   "source": [
    "class Super:\n",
    "    def method(self): # A real application method\n",
    "        pass\n",
    "class Tool:\n",
    "    def _method(self): # becomes _Tool_method\n",
    "        pass\n",
    "    def other(self): # uses internal method\n",
    "        self._method()\n",
    "class Subl(Tool,Super):\n",
    "    def actions(self):\n",
    "        self.method()\n",
    "class Sub2(Tool):\n",
    "    def __init__(self):\n",
    "        self.method = 99"
   ]
  }
 ],
 "metadata": {
  "kernelspec": {
   "display_name": "Python 3 (ipykernel)",
   "language": "python",
   "name": "python3"
  },
  "language_info": {
   "codemirror_mode": {
    "name": "ipython",
    "version": 3
   },
   "file_extension": ".py",
   "mimetype": "text/x-python",
   "name": "python",
   "nbconvert_exporter": "python",
   "pygments_lexer": "ipython3",
   "version": "3.10.6"
  }
 },
 "nbformat": 4,
 "nbformat_minor": 5
}
