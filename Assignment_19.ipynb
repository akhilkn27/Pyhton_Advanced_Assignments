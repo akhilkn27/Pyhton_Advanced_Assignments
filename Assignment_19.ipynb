{
 "cells": [
  {
   "cell_type": "code",
   "execution_count": null,
   "id": "7382a9b0-2401-4473-90af-de05da1ebeea",
   "metadata": {},
   "outputs": [],
   "source": [
    "# Q1. Define the relationship between a class and its instances. Is it a one-to-one or a one-to-many partnership, for example?"
   ]
  },
  {
   "cell_type": "code",
   "execution_count": null,
   "id": "49e1c26b-5fb2-4c08-9b96-748924d0f123",
   "metadata": {},
   "outputs": [],
   "source": [
    "Relationship between a class and its instances is a one to many partnership."
   ]
  },
  {
   "cell_type": "code",
   "execution_count": null,
   "id": "913731aa-513a-4595-86c6-6c4d808fc828",
   "metadata": {},
   "outputs": [],
   "source": [
    "# Q2. What kind of data is held only in an instance?"
   ]
  },
  {
   "cell_type": "code",
   "execution_count": null,
   "id": "784cffe3-2dfc-4815-aadc-faee446e9d72",
   "metadata": {},
   "outputs": [],
   "source": [
    "Instance objects contains the Instance variables which are specific to that specific Instance object."
   ]
  },
  {
   "cell_type": "code",
   "execution_count": null,
   "id": "08474ddb-84ee-4e71-be24-701298fbedae",
   "metadata": {},
   "outputs": [],
   "source": [
    "# Q3. What kind of knowledge is stored in a class?"
   ]
  },
  {
   "cell_type": "code",
   "execution_count": null,
   "id": "df427795-1bc0-4668-b135-a6ad364dd311",
   "metadata": {},
   "outputs": [],
   "source": [
    "Class creates a user-defined data structure, which holds its own data members and member functions, which can be accessed and used by creating an instance of that class. A class is like a blueprint for an object."
   ]
  },
  {
   "cell_type": "code",
   "execution_count": null,
   "id": "a43c43f3-d7fc-4bdf-9e87-de1b96cf3264",
   "metadata": {},
   "outputs": [],
   "source": [
    "# Q4. What exactly is a method, and how is it different from a regular function?"
   ]
  },
  {
   "cell_type": "code",
   "execution_count": null,
   "id": "459879c8-8707-4cc0-8a5b-55b80dae43e0",
   "metadata": {},
   "outputs": [],
   "source": [
    "The methods with a class can be used to access the insatnce variables of its instance. So,the objects state can be modified by its method. Function cannot access the attributes of an instance of a class or cannot modify the state of the object."
   ]
  },
  {
   "cell_type": "code",
   "execution_count": null,
   "id": "76ddaece-3eb9-49bc-8790-7c186d33c962",
   "metadata": {},
   "outputs": [],
   "source": [
    "# Q5. Is inheritance supported in Python, and if so, what is the syntax?"
   ]
  },
  {
   "cell_type": "code",
   "execution_count": null,
   "id": "010f79e8-3ec9-40bd-960a-fdcb23a99ecd",
   "metadata": {},
   "outputs": [],
   "source": [
    "Yes,Python supports inheritance. The Types of Inheritence Supported by Python are:\n",
    "\n",
    " - Simple Inheritence\n",
    " - Multiple Inheritence\n",
    " - Multilevel lInheritence\n",
    " - Hybrid Inheritence\n",
    " - Hierracial Inheritence"
   ]
  },
  {
   "cell_type": "code",
   "execution_count": 1,
   "id": "cb7fa257-6f15-4fa0-a7f9-7a80de2532fb",
   "metadata": {},
   "outputs": [],
   "source": [
    "class Person:\n",
    "    def __init__(self, fname, lname):\n",
    "        self.first_name = fname\n",
    "        self.last_name = lname\n",
    "class Student(Person):\n",
    "    pass"
   ]
  },
  {
   "cell_type": "code",
   "execution_count": 2,
   "id": "827fa226-5534-4624-bca9-ff3bb8ca8622",
   "metadata": {},
   "outputs": [],
   "source": [
    "# Q6. How much encapsulation (making instance or class variables private) does Python support?"
   ]
  },
  {
   "cell_type": "code",
   "execution_count": null,
   "id": "5fb6c56a-f378-48fc-a2be-706c4373bf8f",
   "metadata": {},
   "outputs": [],
   "source": [
    "Encapsulation describes the idea of wrapping data and the methods that work on data within one unit. This puts restrictions on accessing variables and methods directly and can prevent the accidental modification of data. To prevent accidental change, an objects variable can only be changed by an objects method."
   ]
  },
  {
   "cell_type": "code",
   "execution_count": null,
   "id": "63010bf6-7bf7-40af-b44e-3830b46d26dc",
   "metadata": {},
   "outputs": [],
   "source": [
    "# Q7. How do you distinguish between a class variable and an instance variable?"
   ]
  },
  {
   "cell_type": "code",
   "execution_count": null,
   "id": "ede5ab83-716f-40f4-93dd-e7f65c326ddf",
   "metadata": {},
   "outputs": [],
   "source": [
    "The Class Attribute is available to all the instance objects of that class. whereas Instance Attributes are accessible only to the object or Instance of that class.\n",
    "\n",
    "A single copy of Class attributes is maintained by pvm at the class level. Whereas difference copies of instance attributes are maintained by pvm at objects/instance level."
   ]
  },
  {
   "cell_type": "code",
   "execution_count": null,
   "id": "c80f5fc1-854a-4fc3-ab6a-88993d2b5bfe",
   "metadata": {},
   "outputs": [],
   "source": [
    "# Q8. When, if ever, can self be included in a class's method definitions?"
   ]
  },
  {
   "cell_type": "code",
   "execution_count": null,
   "id": "12a497d6-f995-4b93-8cdc-2c806d55e60e",
   "metadata": {},
   "outputs": [],
   "source": [
    "Yes, self can included in class method definations to access the instance variables inside class methods."
   ]
  },
  {
   "cell_type": "code",
   "execution_count": null,
   "id": "e4e02710-6598-406c-b36a-e51e1829c191",
   "metadata": {},
   "outputs": [],
   "source": [
    "# Q9. What is the difference between the __add__ and the __radd__ methods ?"
   ]
  },
  {
   "cell_type": "code",
   "execution_count": null,
   "id": "318e89e1-a608-4b95-a8b6-f1dcddf554ea",
   "metadata": {},
   "outputs": [],
   "source": [
    "Entering __radd__ Python will first try __add__(), and if that returns Not Implemented Python will check if the right-hand operand implements __radd__, and if it does, it will call __radd__() rather than raising a TypeError"
   ]
  },
  {
   "cell_type": "code",
   "execution_count": null,
   "id": "92dd15ae-9414-4938-a138-3fac48136c23",
   "metadata": {},
   "outputs": [],
   "source": [
    "# Q10. When is it necessary to use a reflection method? When do you not need it, even though you support the operation in question?"
   ]
  },
  {
   "cell_type": "code",
   "execution_count": null,
   "id": "5d00cfed-45bb-4e2f-a82e-c741b2f6eba8",
   "metadata": {},
   "outputs": [],
   "source": [
    "Reflection method we often encounter the requirement that a method in the executing object, or a variable in the calling object, or a field of the object should be assigned, while the method name or field name can not be determined when encoding the code, and need to be input in the form of passing strings through parameters."
   ]
  },
  {
   "cell_type": "code",
   "execution_count": null,
   "id": "7c6e496f-885a-4f6f-81cb-bc63b0800a3c",
   "metadata": {},
   "outputs": [],
   "source": [
    "# Q11. What is the __iadd__ method called?"
   ]
  },
  {
   "cell_type": "code",
   "execution_count": null,
   "id": "9fe74c4c-a489-42cd-a74b-a163a40bb9a1",
   "metadata": {},
   "outputs": [],
   "source": [
    "__iadd__ method is called when we use implementation like a+=b which is a.__iadd__(b)"
   ]
  },
  {
   "cell_type": "code",
   "execution_count": null,
   "id": "1149d7fc-0226-4631-85fe-05416487a351",
   "metadata": {},
   "outputs": [],
   "source": [
    "# Q12. Is the _ _init_ _ method inherited by subclasses? What do you do if you need to customize its behavior within a subclass ?"
   ]
  },
  {
   "cell_type": "code",
   "execution_count": null,
   "id": "449be2ad-8472-4486-bc69-ec446d55800f",
   "metadata": {},
   "outputs": [],
   "source": [
    "Yes, __init__ method will be inherited by subclasses. if we want to customize its behaviour within a subclass we can use super() method."
   ]
  }
 ],
 "metadata": {
  "kernelspec": {
   "display_name": "Python 3 (ipykernel)",
   "language": "python",
   "name": "python3"
  },
  "language_info": {
   "codemirror_mode": {
    "name": "ipython",
    "version": 3
   },
   "file_extension": ".py",
   "mimetype": "text/x-python",
   "name": "python",
   "nbconvert_exporter": "python",
   "pygments_lexer": "ipython3",
   "version": "3.10.6"
  }
 },
 "nbformat": 4,
 "nbformat_minor": 5
}
