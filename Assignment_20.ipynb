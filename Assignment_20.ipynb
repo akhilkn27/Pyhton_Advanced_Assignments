{
 "cells": [
  {
   "cell_type": "code",
   "execution_count": 1,
   "id": "c9c579de-1559-45f6-8409-0a6089e2dbd2",
   "metadata": {},
   "outputs": [],
   "source": [
    "# 1. Compare and contrast the float and Decimal classes&#39; benefits and drawbacks."
   ]
  },
  {
   "cell_type": "code",
   "execution_count": null,
   "id": "89b6d7b5-c768-425c-9fc7-2a4245b05bf7",
   "metadata": {},
   "outputs": [],
   "source": [
    "Use floats when convenience and speed matter. A float gives you an approximation of the number you declare.\n",
    "\n",
    "Use decimals when precision matters. Decimals can suffer from their own precision issues, but generally, decimals are more precise than floats. The performance difference between float and decimal, with Python 3, is not outlandish, \n",
    "and in my experience, the precision benefits of a decimal outweigh the performance benefits of a float."
   ]
  },
  {
   "cell_type": "code",
   "execution_count": null,
   "id": "68e9cab2-c054-4fe7-a834-c21a87e12234",
   "metadata": {},
   "outputs": [],
   "source": [
    "# 2. Decimal('1.200') and Decimal('1.2') are two objects to consider. In what sense are these the same object? Are these just two ways of representing the exact same value, or do they correspond to different internal states ?"
   ]
  },
  {
   "cell_type": "code",
   "execution_count": null,
   "id": "ecdb4489-1ead-43aa-9142-7c9cfbd8b383",
   "metadata": {},
   "outputs": [],
   "source": [
    "Both values are same but internal representation at storage Is different. Precsion differs, Decimal('1.200') gives internally 1.200 and Decimal('1.2') gives 1.2."
   ]
  },
  {
   "cell_type": "code",
   "execution_count": null,
   "id": "781af8c7-8d01-4445-96ce-68bf11187d90",
   "metadata": {},
   "outputs": [],
   "source": [
    "# 3. What happens if the equality of Decimal('1.200') and Decimal('1.2') is checked ?"
   ]
  },
  {
   "cell_type": "code",
   "execution_count": null,
   "id": "f65d4192-8a9c-44ac-a327-90ffb2abb53f",
   "metadata": {},
   "outputs": [],
   "source": [
    "Both values are checked to be equal , they only differ in precision."
   ]
  },
  {
   "cell_type": "code",
   "execution_count": null,
   "id": "a9596c07-0318-4177-8dd9-8c5791df2dbd",
   "metadata": {},
   "outputs": [],
   "source": [
    "# 4. Why is it preferable to start a Decimal object with a string rather than a floating-point value ?"
   ]
  },
  {
   "cell_type": "code",
   "execution_count": null,
   "id": "467d5d6d-ae9e-4cee-bcbb-0b8b6814920e",
   "metadata": {},
   "outputs": [],
   "source": [
    "Floating-point value is converted to Decimal format. Decimal can store float value with absolute precision. But when float value is given as Decimal object,it first has to be converted from floating point value which might already have rounding error.\n",
    "\n",
    "Hence it is preferable to start a Decimal object with a string."
   ]
  },
  {
   "cell_type": "code",
   "execution_count": null,
   "id": "56b54280-9656-4552-a6bc-c49c420bf991",
   "metadata": {},
   "outputs": [],
   "source": [
    "# 5. In an arithmetic phrase, how simple is it to combine Decimal objects with integers ?"
   ]
  },
  {
   "cell_type": "code",
   "execution_count": null,
   "id": "558062fe-8e2c-4ee4-ad57-eb7ccfca5087",
   "metadata": {},
   "outputs": [],
   "source": [
    "We can do it with use of Decimal()."
   ]
  },
  {
   "cell_type": "code",
   "execution_count": null,
   "id": "9f952d09-3eab-4d26-98d2-622052af56b1",
   "metadata": {},
   "outputs": [],
   "source": [
    "# 6. Can Decimal objects and floating-point values be combined easily ?"
   ]
  },
  {
   "cell_type": "code",
   "execution_count": null,
   "id": "ca72de8d-9f08-4653-b454-78bd8c1fbf60",
   "metadata": {},
   "outputs": [],
   "source": [
    "Arithmetic operfations like Adding,subtracting or multiplying a Decimal object by a floating-point value is generates an error.\n",
    "\n",
    "To do these operations, the floating point has to be converted to a Decimal."
   ]
  },
  {
   "cell_type": "code",
   "execution_count": null,
   "id": "610a195a-e68a-4f9d-bb32-d502727723d1",
   "metadata": {},
   "outputs": [],
   "source": [
    "# 7. Using the Fraction class but not the Decimal class, give an example of a quantity that can be expressed with absolute precision ?"
   ]
  },
  {
   "cell_type": "code",
   "execution_count": null,
   "id": "de317c67-59b3-4d1f-8285-1388d15d3c79",
   "metadata": {},
   "outputs": [],
   "source": [
    "Value of 0.5 will be represented as ½."
   ]
  },
  {
   "cell_type": "code",
   "execution_count": null,
   "id": "949e4ae1-9596-4cb3-be36-a676cf03e320",
   "metadata": {},
   "outputs": [],
   "source": [
    "# 8.Consider the following two fraction objects: Fraction(1, 2) and Fraction(1, 2). (5, 10). Is the internal state of these two objects the same? Why do you think that is ?"
   ]
  },
  {
   "cell_type": "code",
   "execution_count": null,
   "id": "ce1d0826-7fba-4f80-8d7b-9d07c9720c9a",
   "metadata": {},
   "outputs": [],
   "source": [
    "Both will be reduced to 1/2"
   ]
  },
  {
   "cell_type": "code",
   "execution_count": null,
   "id": "2e07d529-2e47-4225-be66-3ac760e43f5b",
   "metadata": {},
   "outputs": [],
   "source": [
    "# 9. How do the Fraction class and the integer type (int) relate to each other? Containment or inheritance ?"
   ]
  },
  {
   "cell_type": "code",
   "execution_count": null,
   "id": "b717a4d2-5c8f-45c0-a4c1-5e372881bc92",
   "metadata": {},
   "outputs": [],
   "source": [
    "Fraction class and integer type(int) are related in form of a container.It contains two ints, one the numerator and the other the denominator"
   ]
  }
 ],
 "metadata": {
  "kernelspec": {
   "display_name": "Python 3 (ipykernel)",
   "language": "python",
   "name": "python3"
  },
  "language_info": {
   "codemirror_mode": {
    "name": "ipython",
    "version": 3
   },
   "file_extension": ".py",
   "mimetype": "text/x-python",
   "name": "python",
   "nbconvert_exporter": "python",
   "pygments_lexer": "ipython3",
   "version": "3.10.6"
  }
 },
 "nbformat": 4,
 "nbformat_minor": 5
}
