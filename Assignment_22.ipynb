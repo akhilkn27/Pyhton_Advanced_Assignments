{
 "cells": [
  {
   "cell_type": "code",
   "execution_count": null,
   "id": "56962375-294b-48a9-b3f5-a16000e93802",
   "metadata": {},
   "outputs": [],
   "source": [
    "# Q1. What are the benefits of the built-in array package, if any?"
   ]
  },
  {
   "cell_type": "code",
   "execution_count": null,
   "id": "0631aa45-f52e-46c8-b4de-2a700136c9da",
   "metadata": {},
   "outputs": [],
   "source": [
    "Arrays represent multiple data items of the same type using a single name. In arrays, the elements can be accessed randomly by using the index number. Arrays allocate memory in contiguous memory locations for all its elements. Hence there is no chance of extra memory being allocated in case of arrays. This avoids memory overflow or shortage of memory in arrays."
   ]
  },
  {
   "cell_type": "code",
   "execution_count": null,
   "id": "d4101cfc-2759-43e9-b335-39a5fe2db6a8",
   "metadata": {},
   "outputs": [],
   "source": [
    "# Q2. What are some of the array package's limitations ?"
   ]
  },
  {
   "cell_type": "code",
   "execution_count": null,
   "id": "badfb8b5-2089-461d-a699-a237c923a44d",
   "metadata": {},
   "outputs": [],
   "source": [
    "The number of elements to be stored in an array should be known in advance. An array is a static structure (which means the array is of fixed size). Once declared the size of the array cannot be modified. The memory which is allocated to it cannot be increased or decreased.\n",
    "\n",
    "Insertion and deletion are quite difficult in an array as the elements are stored in consecutive memory locations and the shifting operation is costly.\n",
    "\n",
    "Allocating more memory than the requirement leads to wastage of memory space and less allocation of memory also leads to a problem"
   ]
  },
  {
   "cell_type": "code",
   "execution_count": null,
   "id": "64767a5c-9d11-4884-8d2b-280de4a41ed3",
   "metadata": {},
   "outputs": [],
   "source": [
    "# Q3. Describe the main differences between the array and numpy packages."
   ]
  },
  {
   "cell_type": "code",
   "execution_count": null,
   "id": "84f95bb8-5b18-4288-93f2-382fc9ea53c8",
   "metadata": {},
   "outputs": [],
   "source": [
    "The array package doesnot provide any help with numerical calculation with the items insdie it in number form while NumPy give you a wide variety of numerical operations.\n",
    "\n",
    "An array is a single dimensional entity which hold the numerical data, while numpy can have more than 1 dimension.\n",
    "\n",
    "In case of array, item can be accessed by its index position and it is easy task while in numpy item is accessed by its column and row index, which makes it slightly time taking. Same goes with appending operation.\n",
    "\n",
    "In case of array we do not form a tabular structure, while in numpy it forms a tabular structure"
   ]
  },
  {
   "cell_type": "code",
   "execution_count": null,
   "id": "e07e097e-d60b-4e7e-892e-049a002d6254",
   "metadata": {},
   "outputs": [],
   "source": [
    "# Q4. Explain the distinctions between the empty, ones, and zeros functions ?"
   ]
  },
  {
   "cell_type": "code",
   "execution_count": null,
   "id": "2a1da0a9-85cc-48f1-802e-1f2dcbd81a07",
   "metadata": {},
   "outputs": [],
   "source": [
    "The distinctions between the empty, ones, and zero functions are as follows :\n",
    "\n",
    " - Empty function: An empty function is a function that does not contain any statement within its body. If you try to write a function definition without any statement in python ,it will return an error. To avoid this, we use pass statement. pass is a special statement in Python that does nothing. It only works as a dummy statement.\n",
    " - Ones: This function returns a new array of given shape and data type, where the element’s value is 1.\n",
    " - Zeros: This function returns a new array of given shape and data type, where the element’s value is 0.\n"
   ]
  },
  {
   "cell_type": "code",
   "execution_count": null,
   "id": "36f2e786-e699-4dfa-8184-62dba17056cd",
   "metadata": {},
   "outputs": [],
   "source": [
    "# Q5. In the fromfunction function, which is used to construct new arrays, what is the role of the callable argument ?"
   ]
  },
  {
   "cell_type": "code",
   "execution_count": null,
   "id": "7776959d-865a-4bab-a315-150b6a80b286",
   "metadata": {},
   "outputs": [],
   "source": [
    "Its function is to execute the function over each coordinate and the resulting array. \n",
    "The function is called with N parameters, where N is the rank of shape. \n",
    "Each parameter represents the coordinates of the array varying along a specific axis."
   ]
  },
  {
   "cell_type": "code",
   "execution_count": 1,
   "id": "acc2d3c4-fa3c-40ce-ae31-f2a56a877323",
   "metadata": {},
   "outputs": [],
   "source": [
    "# Q6. What happens when a numpy array is combined with a single-value operand (a scalar, such as an int or a floating-point value) through addition, as in the expression A + n ?"
   ]
  },
  {
   "cell_type": "code",
   "execution_count": null,
   "id": "95b8d01c-6fd8-41ea-842e-a73e4e56a18a",
   "metadata": {},
   "outputs": [],
   "source": [
    "If any scaler value such as integer is added to the numpy array then all the elements inside the array will add that value in it."
   ]
  },
  {
   "cell_type": "code",
   "execution_count": null,
   "id": "2d83cf34-7755-4b7f-9081-f2d65ac51e9d",
   "metadata": {},
   "outputs": [],
   "source": [
    "# Q7. Can array-to-scalar operations use combined operation-assign operators (such as += or *=)? What is the outcome ?"
   ]
  },
  {
   "cell_type": "code",
   "execution_count": null,
   "id": "6ea087fb-9fc2-4365-acb0-8b8edb34b6dd",
   "metadata": {},
   "outputs": [],
   "source": [
    "It will carry out provided operation on all elements of array."
   ]
  },
  {
   "cell_type": "code",
   "execution_count": null,
   "id": "99f70a13-cbf6-493d-8383-2c84f905054a",
   "metadata": {},
   "outputs": [],
   "source": [
    "# Q8. Does a numpy array contain fixed-length strings? What happens if you allocate a longer string to one of these arrays ?"
   ]
  },
  {
   "cell_type": "code",
   "execution_count": null,
   "id": "acd47eaa-66ca-4cff-a280-70dd3ab1f870",
   "metadata": {},
   "outputs": [],
   "source": [
    "Yes, it is possible that we can include a string of fixed length in numpy array. The dtype of any numpy array containing string values is the maximum length of any string present in the array.Once set, it will only be able to store new string having length not more than the maximum length at the time of the creation. If we try to reassign some another string value having length greater than the maximum length of the existing elements, it simply discards all the values beyond the maximum length accept upto those values which are under the limit."
   ]
  },
  {
   "cell_type": "code",
   "execution_count": null,
   "id": "9c1d6534-502c-4d4d-8825-ce1947611707",
   "metadata": {},
   "outputs": [],
   "source": [
    "# Q9. What happens when you combine two numpy arrays using an operation like addition (+) or multiplication (*)? What are the conditions for combining two numpy arrays ?"
   ]
  },
  {
   "cell_type": "code",
   "execution_count": null,
   "id": "09ff1188-c9d5-4fdf-bbb7-ec9d571d92e5",
   "metadata": {},
   "outputs": [],
   "source": [
    "It will simply add or multiply element to element at same position."
   ]
  },
  {
   "cell_type": "code",
   "execution_count": null,
   "id": "8df2a7b9-35eb-47ad-b251-3e086b80cad8",
   "metadata": {},
   "outputs": [],
   "source": [
    "# Q10. What is the best way to use a Boolean array to mask another array ?"
   ]
  },
  {
   "cell_type": "code",
   "execution_count": null,
   "id": "6eefdd92-a1de-4af0-a5a6-114ca1558884",
   "metadata": {},
   "outputs": [],
   "source": [
    "The best way to use a Boolean array to mask another array is by Using masked_where of numpy package"
   ]
  },
  {
   "cell_type": "code",
   "execution_count": null,
   "id": "3072a5b3-f0dd-42b7-b55c-c07d8cd72c77",
   "metadata": {},
   "outputs": [],
   "source": [
    "# Q11. What are three different ways to get the standard deviation of a wide collection of data using both standard Python and its packages? Sort the three of them by how quickly they execute ?"
   ]
  },
  {
   "cell_type": "code",
   "execution_count": null,
   "id": "8fb319dc-dd32-4829-84d2-b74939afea9c",
   "metadata": {},
   "outputs": [],
   "source": [
    "np.std and math package can be used individually."
   ]
  },
  {
   "cell_type": "code",
   "execution_count": null,
   "id": "fe738236-3f75-49e8-bfbc-27ec21b2d35c",
   "metadata": {},
   "outputs": [],
   "source": [
    "# 12. What is the dimensionality of a Boolean mask-generated array ?"
   ]
  },
  {
   "cell_type": "code",
   "execution_count": null,
   "id": "0617ffd5-e06e-4b20-b330-3a05c9ed5b56",
   "metadata": {},
   "outputs": [],
   "source": [
    "It will have same dimensionality as input array."
   ]
  }
 ],
 "metadata": {
  "kernelspec": {
   "display_name": "Python 3 (ipykernel)",
   "language": "python",
   "name": "python3"
  },
  "language_info": {
   "codemirror_mode": {
    "name": "ipython",
    "version": 3
   },
   "file_extension": ".py",
   "mimetype": "text/x-python",
   "name": "python",
   "nbconvert_exporter": "python",
   "pygments_lexer": "ipython3",
   "version": "3.10.6"
  }
 },
 "nbformat": 4,
 "nbformat_minor": 5
}
