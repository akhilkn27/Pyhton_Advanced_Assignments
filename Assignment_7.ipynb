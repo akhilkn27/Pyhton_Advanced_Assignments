{
 "cells": [
  {
   "cell_type": "code",
   "execution_count": null,
   "id": "327f7418-19bd-4d3a-809c-be6559b3c53b",
   "metadata": {},
   "outputs": [],
   "source": [
    "# Q1. What is the purpose of the try statement?"
   ]
  },
  {
   "cell_type": "code",
   "execution_count": null,
   "id": "a1c889c0-7bb6-4eff-9163-0d994feceea0",
   "metadata": {},
   "outputs": [],
   "source": [
    "try statement is used for exception handling in python. it consists of a block of risky statements which might cause an exception during runtime. \n",
    "if code within try block raises exception, then the exception will be reverted to the corresponding except block if multiple except blocks are present, \n",
    "else it willbe reverted to the default except block. In short try and except in union avoid programs from crashing during runtime due to exceptions."
   ]
  },
  {
   "cell_type": "code",
   "execution_count": 1,
   "id": "e43482b2-d465-4fea-84e8-da33a2b0d7f0",
   "metadata": {},
   "outputs": [
    {
     "name": "stdout",
     "output_type": "stream",
     "text": [
      "Division by Zero is Not Possible\n"
     ]
    }
   ],
   "source": [
    "try:\n",
    "    print(10/0)\n",
    "except ZeroDivisionError:\n",
    "    print('Division by Zero is Not Possible')"
   ]
  },
  {
   "cell_type": "code",
   "execution_count": null,
   "id": "ace775bf-cf16-4e74-b5ce-e982d736d309",
   "metadata": {},
   "outputs": [],
   "source": [
    "# Q2. What are the two most popular try statement variations?"
   ]
  },
  {
   "cell_type": "code",
   "execution_count": null,
   "id": "eda5e4ae-780e-4183-be37-465e6f497ff8",
   "metadata": {},
   "outputs": [],
   "source": [
    "The Popular try statement variations are:\n",
    "\n",
    " - try,except\n",
    " - try,except,finally\n",
    " - try,except,finally,else\n",
    "The try block is used to check code for exceptions during runtime. ie code inside try block will execute completely when there is no error in the program. \n",
    "Whereas the code inside except block will execute whenever the program encounters some error in the preceeding try block.\n",
    "\n",
    "Whereas the code enters the else block if and only if the try clause does not raise and exception. \n",
    "The code in the finally block will execute irrespective of exception."
   ]
  },
  {
   "cell_type": "code",
   "execution_count": null,
   "id": "384734b2-7c3c-4398-8516-cc8d38c1f289",
   "metadata": {},
   "outputs": [],
   "source": [
    "# Q3. What is the purpose of the raise statement?"
   ]
  },
  {
   "cell_type": "code",
   "execution_count": null,
   "id": "c8fe531e-3924-4f4b-bada-8076658c93ef",
   "metadata": {},
   "outputs": [],
   "source": [
    "raise statement is used to trigger an exception explicitly, if a certain condition is not as per requirement of programmer. \n",
    "raise statement helps in triggering exception as per programming logic."
   ]
  },
  {
   "cell_type": "code",
   "execution_count": null,
   "id": "6cb024e0-78c8-4b16-b43c-d0401a3a529d",
   "metadata": {},
   "outputs": [],
   "source": [
    "# Q4. What does the assert statement do, and what other statement is it like?"
   ]
  },
  {
   "cell_type": "code",
   "execution_count": null,
   "id": "d5362213-f036-4957-989a-0396741000f3",
   "metadata": {},
   "outputs": [],
   "source": [
    "There are few assertions that programmer always want to be true to avoid code failure. This type of requirement is fulfilled by assert statement. \n",
    "This statement takes a boolean condition output of which is True, Further Program Executes. if output of assert statement is False, it raises an Assertion Error."
   ]
  },
  {
   "cell_type": "code",
   "execution_count": 2,
   "id": "e786a0e7-66f2-42e4-b4a6-60f89220ccb9",
   "metadata": {},
   "outputs": [
    {
     "ename": "AssertionError",
     "evalue": "this is not a valid statement",
     "output_type": "error",
     "traceback": [
      "\u001b[0;31m---------------------------------------------------------------------------\u001b[0m",
      "\u001b[0;31mAssertionError\u001b[0m                            Traceback (most recent call last)",
      "Cell \u001b[0;32mIn [2], line 1\u001b[0m\n\u001b[0;32m----> 1\u001b[0m \u001b[38;5;28;01massert\u001b[39;00m(\u001b[38;5;241m2\u001b[39m \u001b[38;5;241m==\u001b[39m \u001b[38;5;241m4\u001b[39m), \u001b[38;5;124mf\u001b[39m\u001b[38;5;124m'\u001b[39m\u001b[38;5;124mthis is not a valid statement\u001b[39m\u001b[38;5;124m'\u001b[39m\n",
      "\u001b[0;31mAssertionError\u001b[0m: this is not a valid statement"
     ]
    }
   ],
   "source": [
    "assert(2 == 4), f'this is not a valid statement'"
   ]
  },
  {
   "cell_type": "code",
   "execution_count": null,
   "id": "41fc8ab3-e3a3-432f-8bef-6046c9a6b517",
   "metadata": {},
   "outputs": [],
   "source": [
    "# Q5. What is the purpose of the with/as argument, and what other statement is it like?"
   ]
  },
  {
   "cell_type": "code",
   "execution_count": null,
   "id": "13203c1e-175a-44d6-8f85-8108e5618836",
   "metadata": {},
   "outputs": [],
   "source": [
    "with/as statement simplifies use of file handling in python. When we use a with statement for file reading, there is no need for programmer to explicitly takecare of activities like resource deallocation and file closing by using file.close() method. with statement itself ensures proper acquisition and release of resources. this avoids triggering of exceptions if file closing is unknowingly forgotten in the code execution."
   ]
  },
  {
   "cell_type": "code",
   "execution_count": 3,
   "id": "45d01a4e-0cc1-4bf4-aabe-ebf71acb7b64",
   "metadata": {},
   "outputs": [],
   "source": [
    "with open('sample_file.txt','w') as file: file.write('Hello World')"
   ]
  },
  {
   "cell_type": "code",
   "execution_count": null,
   "id": "0e2f26be-c7e9-4cc9-83ce-cbfa28776acb",
   "metadata": {},
   "outputs": [],
   "source": []
  }
 ],
 "metadata": {
  "kernelspec": {
   "display_name": "Python 3 (ipykernel)",
   "language": "python",
   "name": "python3"
  },
  "language_info": {
   "codemirror_mode": {
    "name": "ipython",
    "version": 3
   },
   "file_extension": ".py",
   "mimetype": "text/x-python",
   "name": "python",
   "nbconvert_exporter": "python",
   "pygments_lexer": "ipython3",
   "version": "3.10.6"
  }
 },
 "nbformat": 4,
 "nbformat_minor": 5
}
