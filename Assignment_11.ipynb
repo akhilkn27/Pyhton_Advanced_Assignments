{
 "cells": [
  {
   "cell_type": "code",
   "execution_count": null,
   "id": "c2d0d3cd-24a2-449b-bb4d-e8ee5865333b",
   "metadata": {},
   "outputs": [],
   "source": [
    "# Q1. What is the concept of a metaclass?"
   ]
  },
  {
   "cell_type": "code",
   "execution_count": null,
   "id": "d3dbee5c-2b27-47d1-8d73-083d8081d58e",
   "metadata": {},
   "outputs": [],
   "source": [
    "Metaclass in Python is a class of a class that defines how a class behaves. \n",
    "A class is itself a instance of Metaclass, and any Instance of Class in Python is an Instance of type metaclass. \n",
    "E.g. Type of of int, str, float, list, tuple and many more is of metaclass type."
   ]
  },
  {
   "cell_type": "code",
   "execution_count": null,
   "id": "a249129c-f581-49f7-95d9-c2268141d11d",
   "metadata": {},
   "outputs": [],
   "source": [
    "# Q2. What is the best way to declare a class's metaclass?"
   ]
  },
  {
   "cell_type": "code",
   "execution_count": null,
   "id": "fe67c0f8-abef-4cba-8cd6-e0fb37602ed5",
   "metadata": {},
   "outputs": [],
   "source": [
    "A way to declare a class’ metaclass is by using metaclass keyword in class definition."
   ]
  },
  {
   "cell_type": "code",
   "execution_count": 2,
   "id": "0b015322-ac12-45ef-a59b-1326d192263d",
   "metadata": {},
   "outputs": [
    {
     "name": "stdout",
     "output_type": "stream",
     "text": [
      "<class 'type'>\n",
      "<class '__main__.meta'>\n"
     ]
    }
   ],
   "source": [
    "class meta(type):\n",
    "    pass\n",
    "class class_meta(metaclass=meta):\n",
    "    pass\n",
    "print(type(meta))\n",
    "print(type(class_meta))"
   ]
  },
  {
   "cell_type": "code",
   "execution_count": null,
   "id": "443051f7-5702-4efd-a366-d7d45e76db6a",
   "metadata": {},
   "outputs": [],
   "source": [
    "# Q3. How do class decorators overlap with metaclasses for handling classes?"
   ]
  },
  {
   "cell_type": "code",
   "execution_count": null,
   "id": "7eb32f11-d647-4b75-b5fd-c4b91392bc5f",
   "metadata": {},
   "outputs": [],
   "source": [
    "Anything you can do with a class decorator, you can of course do with a custom metaclasses (just apply the functionality of the \"decorator function\", \n",
    "i.e., the one that takes a class object and modifies it, in the course of the metaclasses __new__ or __init__ that make the class object!)."
   ]
  },
  {
   "cell_type": "code",
   "execution_count": null,
   "id": "f49b33c2-827d-41e7-9bc9-0277649a0f9a",
   "metadata": {},
   "outputs": [],
   "source": [
    "# Q4. How do class decorators overlap with metaclasses for handling instances?"
   ]
  },
  {
   "cell_type": "code",
   "execution_count": null,
   "id": "933e032b-3f7e-4f6f-9262-0cdae9b7cfdc",
   "metadata": {},
   "outputs": [],
   "source": [
    "Anything you can do with a class decorator, you can of course do with a custom metaclass (just apply the functionality of the \"decorator function\", i.e., the one that takes a class object and modifies it, in the course of the metaclassess __new__ or __init__ that make the class object!)."
   ]
  }
 ],
 "metadata": {
  "kernelspec": {
   "display_name": "Python 3 (ipykernel)",
   "language": "python",
   "name": "python3"
  },
  "language_info": {
   "codemirror_mode": {
    "name": "ipython",
    "version": 3
   },
   "file_extension": ".py",
   "mimetype": "text/x-python",
   "name": "python",
   "nbconvert_exporter": "python",
   "pygments_lexer": "ipython3",
   "version": "3.10.6"
  }
 },
 "nbformat": 4,
 "nbformat_minor": 5
}
